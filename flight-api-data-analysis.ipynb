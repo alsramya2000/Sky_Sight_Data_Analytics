{
 "cells": [
  {
   "cell_type": "code",
   "execution_count": 85,
   "metadata": {
    "_cell_guid": "b1076dfc-b9ad-4769-8c92-a6c4dae69d19",
    "_uuid": "8f2839f25d086af736a60e9eeb907d3b93b6e0e5",
    "execution": {
     "iopub.execute_input": "2024-03-13T20:03:07.347017Z",
     "iopub.status.busy": "2024-03-13T20:03:07.346481Z",
     "iopub.status.idle": "2024-03-13T20:03:08.029964Z",
     "shell.execute_reply": "2024-03-13T20:03:08.028792Z",
     "shell.execute_reply.started": "2024-03-13T20:03:07.346973Z"
    }
   },
   "outputs": [],
   "source": [
    "import pandas as pd\n",
    "import requests\n",
    "import json\n",
    "import matplotlib.pyplot as plt\n",
    "import seaborn as sns"
   ]
  },
  {
   "cell_type": "code",
   "execution_count": 105,
   "metadata": {
    "execution": {
     "iopub.execute_input": "2024-03-13T20:02:30.478411Z",
     "iopub.status.busy": "2024-03-13T20:02:30.477871Z",
     "iopub.status.idle": "2024-03-13T20:02:30.482580Z",
     "shell.execute_reply": "2024-03-13T20:02:30.481700Z",
     "shell.execute_reply.started": "2024-03-13T20:02:30.478380Z"
    }
   },
   "outputs": [],
   "source": [
    "params = {\n",
    "    'access_key': 'cfb002fd4708815a433e0cdbdbed4181',\n",
    "    'airline_name': 'American Airlines',\n",
    "    'dep_iata': 'LAX',\n",
    "    'flight_number': 1582,\n",
    "    'flight_status': 'scheduled'\n",
    "}"
   ]
  },
  {
   "cell_type": "code",
   "execution_count": 106,
   "metadata": {
    "execution": {
     "iopub.execute_input": "2024-03-13T20:02:30.486329Z",
     "iopub.status.busy": "2024-03-13T20:02:30.485790Z",
     "iopub.status.idle": "2024-03-13T20:02:44.326185Z",
     "shell.execute_reply": "2024-03-13T20:02:44.324863Z",
     "shell.execute_reply.started": "2024-03-13T20:02:30.486287Z"
    }
   },
   "outputs": [],
   "source": [
    "api_result = requests.get('http://api.aviationstack.com/v1/flights', params)\n",
    "\n",
    "api_response = api_result.json()"
   ]
  },
  {
   "cell_type": "code",
   "execution_count": 107,
   "metadata": {},
   "outputs": [
    {
     "name": "stdout",
     "output_type": "stream",
     "text": [
      "{'pagination': {'limit': 100, 'offset': 0, 'count': 2, 'total': 2}, 'data': [{'flight_date': '2024-04-21', 'flight_status': 'scheduled', 'departure': {'airport': 'Los Angeles International', 'timezone': 'America/Los_Angeles', 'iata': 'LAX', 'icao': 'KLAX', 'terminal': '5', 'gate': '51B', 'delay': 54, 'scheduled': '2024-04-21T14:55:00+00:00', 'estimated': '2024-04-21T14:55:00+00:00', 'actual': None, 'estimated_runway': None, 'actual_runway': None}, 'arrival': {'airport': 'Dallas/Fort Worth International', 'timezone': 'America/Chicago', 'iata': 'DFW', 'icao': 'KDFW', 'terminal': 'D', 'gate': 'D31', 'baggage': 'D30', 'delay': None, 'scheduled': '2024-04-21T19:59:00+00:00', 'estimated': '2024-04-21T19:59:00+00:00', 'actual': None, 'estimated_runway': None, 'actual_runway': None}, 'airline': {'name': 'American Airlines', 'iata': 'AA', 'icao': 'AAL'}, 'flight': {'number': '1582', 'iata': 'AA1582', 'icao': 'AAL1582', 'codeshared': None}, 'aircraft': None, 'live': None}, {'flight_date': '2024-04-20', 'flight_status': 'scheduled', 'departure': {'airport': 'Los Angeles International', 'timezone': 'America/Los_Angeles', 'iata': 'LAX', 'icao': 'KLAX', 'terminal': '4', 'gate': '45', 'delay': 174, 'scheduled': '2024-04-20T14:55:00+00:00', 'estimated': '2024-04-20T14:55:00+00:00', 'actual': '2024-04-20T17:49:00+00:00', 'estimated_runway': '2024-04-20T17:49:00+00:00', 'actual_runway': '2024-04-20T17:49:00+00:00'}, 'arrival': {'airport': 'Dallas/Fort Worth International', 'timezone': 'America/Chicago', 'iata': 'DFW', 'icao': 'KDFW', 'terminal': 'B', 'gate': 'B7', 'baggage': 'B5', 'delay': 137, 'scheduled': '2024-04-20T19:59:00+00:00', 'estimated': '2024-04-20T19:59:00+00:00', 'actual': None, 'estimated_runway': None, 'actual_runway': None}, 'airline': {'name': 'American Airlines', 'iata': 'AA', 'icao': 'AAL'}, 'flight': {'number': '1582', 'iata': 'AA1582', 'icao': 'AAL1582', 'codeshared': None}, 'aircraft': None, 'live': None}]}\n"
     ]
    }
   ],
   "source": [
    "print(api_response)"
   ]
  },
  {
   "cell_type": "code",
   "execution_count": 108,
   "metadata": {
    "execution": {
     "iopub.execute_input": "2024-03-13T20:04:23.478343Z",
     "iopub.status.busy": "2024-03-13T20:04:23.477933Z",
     "iopub.status.idle": "2024-03-13T20:04:23.509387Z",
     "shell.execute_reply": "2024-03-13T20:04:23.508228Z",
     "shell.execute_reply.started": "2024-03-13T20:04:23.478304Z"
    }
   },
   "outputs": [
    {
     "data": {
      "text/html": [
       "<div>\n",
       "<style scoped>\n",
       "    .dataframe tbody tr th:only-of-type {\n",
       "        vertical-align: middle;\n",
       "    }\n",
       "\n",
       "    .dataframe tbody tr th {\n",
       "        vertical-align: top;\n",
       "    }\n",
       "\n",
       "    .dataframe thead th {\n",
       "        text-align: right;\n",
       "    }\n",
       "</style>\n",
       "<table border=\"1\" class=\"dataframe\">\n",
       "  <thead>\n",
       "    <tr style=\"text-align: right;\">\n",
       "      <th></th>\n",
       "      <th>flight_date</th>\n",
       "      <th>flight_status</th>\n",
       "      <th>departure_airport</th>\n",
       "      <th>departure_iata</th>\n",
       "      <th>departure_terminal</th>\n",
       "      <th>departure_gate</th>\n",
       "      <th>departure_delay</th>\n",
       "      <th>departure_timezone</th>\n",
       "      <th>arrival_timezone</th>\n",
       "      <th>arrival_airport</th>\n",
       "      <th>arrival_iata</th>\n",
       "      <th>arrival_terminal</th>\n",
       "      <th>arrival_gate</th>\n",
       "      <th>arrival_baggage</th>\n",
       "      <th>arrival_delay</th>\n",
       "      <th>airline_name</th>\n",
       "      <th>airline_iata</th>\n",
       "      <th>scheduled_departure</th>\n",
       "      <th>estimated_departure</th>\n",
       "      <th>actual_departure</th>\n",
       "    </tr>\n",
       "  </thead>\n",
       "  <tbody>\n",
       "    <tr>\n",
       "      <th>0</th>\n",
       "      <td>2024-04-21</td>\n",
       "      <td>scheduled</td>\n",
       "      <td>Los Angeles International</td>\n",
       "      <td>LAX</td>\n",
       "      <td>5</td>\n",
       "      <td>51B</td>\n",
       "      <td>54</td>\n",
       "      <td>America/Los_Angeles</td>\n",
       "      <td>America/Chicago</td>\n",
       "      <td>Dallas/Fort Worth International</td>\n",
       "      <td>DFW</td>\n",
       "      <td>D</td>\n",
       "      <td>D31</td>\n",
       "      <td>D30</td>\n",
       "      <td>NaN</td>\n",
       "      <td>American Airlines</td>\n",
       "      <td>AA</td>\n",
       "      <td>2024-04-21T14:55:00+00:00</td>\n",
       "      <td>2024-04-21T14:55:00+00:00</td>\n",
       "      <td>None</td>\n",
       "    </tr>\n",
       "    <tr>\n",
       "      <th>1</th>\n",
       "      <td>2024-04-20</td>\n",
       "      <td>scheduled</td>\n",
       "      <td>Los Angeles International</td>\n",
       "      <td>LAX</td>\n",
       "      <td>4</td>\n",
       "      <td>45</td>\n",
       "      <td>174</td>\n",
       "      <td>America/Los_Angeles</td>\n",
       "      <td>America/Chicago</td>\n",
       "      <td>Dallas/Fort Worth International</td>\n",
       "      <td>DFW</td>\n",
       "      <td>B</td>\n",
       "      <td>B7</td>\n",
       "      <td>B5</td>\n",
       "      <td>137.0</td>\n",
       "      <td>American Airlines</td>\n",
       "      <td>AA</td>\n",
       "      <td>2024-04-20T14:55:00+00:00</td>\n",
       "      <td>2024-04-20T14:55:00+00:00</td>\n",
       "      <td>2024-04-20T17:49:00+00:00</td>\n",
       "    </tr>\n",
       "  </tbody>\n",
       "</table>\n",
       "</div>"
      ],
      "text/plain": [
       "  flight_date flight_status          departure_airport departure_iata  \\\n",
       "0  2024-04-21     scheduled  Los Angeles International            LAX   \n",
       "1  2024-04-20     scheduled  Los Angeles International            LAX   \n",
       "\n",
       "  departure_terminal departure_gate  departure_delay   departure_timezone  \\\n",
       "0                  5            51B               54  America/Los_Angeles   \n",
       "1                  4             45              174  America/Los_Angeles   \n",
       "\n",
       "  arrival_timezone                  arrival_airport arrival_iata  \\\n",
       "0  America/Chicago  Dallas/Fort Worth International          DFW   \n",
       "1  America/Chicago  Dallas/Fort Worth International          DFW   \n",
       "\n",
       "  arrival_terminal arrival_gate arrival_baggage  arrival_delay  \\\n",
       "0                D          D31             D30            NaN   \n",
       "1                B           B7              B5          137.0   \n",
       "\n",
       "        airline_name airline_iata        scheduled_departure  \\\n",
       "0  American Airlines           AA  2024-04-21T14:55:00+00:00   \n",
       "1  American Airlines           AA  2024-04-20T14:55:00+00:00   \n",
       "\n",
       "         estimated_departure           actual_departure  \n",
       "0  2024-04-21T14:55:00+00:00                       None  \n",
       "1  2024-04-20T14:55:00+00:00  2024-04-20T17:49:00+00:00  "
      ]
     },
     "execution_count": 108,
     "metadata": {},
     "output_type": "execute_result"
    }
   ],
   "source": [
    "flight_list = []\n",
    "\n",
    "for flight in api_response['data']:\n",
    "    flight_list.append({\n",
    "        'flight_date': flight['flight_date'],\n",
    "        'flight_status': flight['flight_status'],\n",
    "        'departure_airport': flight['departure']['airport'],\n",
    "        'departure_iata': flight['departure']['iata'],\n",
    "        'departure_terminal': flight['departure']['terminal'],\n",
    "        'departure_gate': flight['departure']['gate'],\n",
    "        'departure_delay': flight['departure']['delay'],\n",
    "        'departure_timezone': flight['departure']['timezone'],\n",
    "        'arrival_timezone': flight['arrival']['timezone'],\n",
    "        'arrival_airport': flight['arrival']['airport'],\n",
    "        'arrival_iata': flight['arrival']['iata'],\n",
    "        'arrival_terminal': flight['arrival']['terminal'],\n",
    "        'arrival_gate': flight['arrival']['gate'],\n",
    "        'arrival_baggage': flight['arrival']['baggage'],\n",
    "        'arrival_delay': flight['arrival']['delay'],\n",
    "        'airline_name': flight['airline']['name'],\n",
    "        'airline_iata': flight['airline']['iata'],\n",
    "        'scheduled_departure': flight['departure']['scheduled'],\n",
    "        'estimated_departure': flight['departure']['estimated'],\n",
    "        'actual_departure': flight['departure']['actual']\n",
    "    })\n",
    "\n",
    "flights = pd.DataFrame(flight_list, index=None)\n",
    "\n",
    "flights"
   ]
  },
  {
   "cell_type": "code",
   "execution_count": 109,
   "metadata": {},
   "outputs": [
    {
     "data": {
      "text/plain": [
       "Index(['flight_date', 'flight_status', 'departure_airport', 'departure_iata',\n",
       "       'departure_terminal', 'departure_gate', 'departure_delay',\n",
       "       'departure_timezone', 'arrival_timezone', 'arrival_airport',\n",
       "       'arrival_iata', 'arrival_terminal', 'arrival_gate', 'arrival_baggage',\n",
       "       'arrival_delay', 'airline_name', 'airline_iata', 'scheduled_departure',\n",
       "       'estimated_departure', 'actual_departure'],\n",
       "      dtype='object')"
      ]
     },
     "execution_count": 109,
     "metadata": {},
     "output_type": "execute_result"
    }
   ],
   "source": [
    "flights.columns"
   ]
  },
  {
   "cell_type": "code",
   "execution_count": 110,
   "metadata": {},
   "outputs": [
    {
     "name": "stdout",
     "output_type": "stream",
     "text": [
      "54\n"
     ]
    }
   ],
   "source": [
    "delay = flights['departure_delay'][0]\n",
    "\n",
    "print(delay)"
   ]
  },
  {
   "cell_type": "code",
   "execution_count": null,
   "metadata": {},
   "outputs": [],
   "source": []
  },
  {
   "cell_type": "code",
   "execution_count": null,
   "metadata": {},
   "outputs": [],
   "source": []
  },
  {
   "cell_type": "code",
   "execution_count": null,
   "metadata": {},
   "outputs": [],
   "source": []
  }
 ],
 "metadata": {
  "kaggle": {
   "accelerator": "none",
   "dataSources": [],
   "dockerImageVersionId": 30664,
   "isGpuEnabled": false,
   "isInternetEnabled": true,
   "language": "python",
   "sourceType": "notebook"
  },
  "kernelspec": {
   "display_name": "Python 3 (ipykernel)",
   "language": "python",
   "name": "python3"
  },
  "language_info": {
   "codemirror_mode": {
    "name": "ipython",
    "version": 3
   },
   "file_extension": ".py",
   "mimetype": "text/x-python",
   "name": "python",
   "nbconvert_exporter": "python",
   "pygments_lexer": "ipython3",
   "version": "3.9.18"
  }
 },
 "nbformat": 4,
 "nbformat_minor": 4
}
